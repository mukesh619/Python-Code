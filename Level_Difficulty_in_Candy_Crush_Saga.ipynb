{
 "cells": [
  {
   "cell_type": "code",
   "execution_count": 17,
   "metadata": {},
   "outputs": [],
   "source": [
    "from urllib.request import urlretrieve\n",
    "import pandas as pd\n",
    "import numpy as np\n",
    "import matplotlib.pyplot as plt\n",
    "%matplotlib inline\n",
    "import warnings\n",
    "warnings.filterwarnings(\"ignore\")"
   ]
  },
  {
   "cell_type": "code",
   "execution_count": 27,
   "metadata": {},
   "outputs": [
    {
     "data": {
      "text/html": [
       "<div>\n",
       "<style scoped>\n",
       "    .dataframe tbody tr th:only-of-type {\n",
       "        vertical-align: middle;\n",
       "    }\n",
       "\n",
       "    .dataframe tbody tr th {\n",
       "        vertical-align: top;\n",
       "    }\n",
       "\n",
       "    .dataframe thead th {\n",
       "        text-align: right;\n",
       "    }\n",
       "</style>\n",
       "<table border=\"1\" class=\"dataframe\">\n",
       "  <thead>\n",
       "    <tr style=\"text-align: right;\">\n",
       "      <th></th>\n",
       "      <th>player_id</th>\n",
       "      <th>dt</th>\n",
       "      <th>level</th>\n",
       "      <th>num_attempts</th>\n",
       "      <th>num_success</th>\n",
       "      <th>date</th>\n",
       "    </tr>\n",
       "  </thead>\n",
       "  <tbody>\n",
       "    <tr>\n",
       "      <td>0</td>\n",
       "      <td>6dd5af4c7228fa353d505767143f5815</td>\n",
       "      <td>2014-01-04</td>\n",
       "      <td>4</td>\n",
       "      <td>3</td>\n",
       "      <td>1</td>\n",
       "      <td>2014-01-04</td>\n",
       "    </tr>\n",
       "    <tr>\n",
       "      <td>1</td>\n",
       "      <td>c7ec97c39349ab7e4d39b4f74062ec13</td>\n",
       "      <td>2014-01-01</td>\n",
       "      <td>8</td>\n",
       "      <td>4</td>\n",
       "      <td>1</td>\n",
       "      <td>2014-01-01</td>\n",
       "    </tr>\n",
       "    <tr>\n",
       "      <td>2</td>\n",
       "      <td>c7ec97c39349ab7e4d39b4f74062ec13</td>\n",
       "      <td>2014-01-05</td>\n",
       "      <td>12</td>\n",
       "      <td>6</td>\n",
       "      <td>0</td>\n",
       "      <td>2014-01-05</td>\n",
       "    </tr>\n",
       "    <tr>\n",
       "      <td>3</td>\n",
       "      <td>a32c5e9700ed356dc8dd5bb3230c5227</td>\n",
       "      <td>2014-01-03</td>\n",
       "      <td>11</td>\n",
       "      <td>1</td>\n",
       "      <td>1</td>\n",
       "      <td>2014-01-03</td>\n",
       "    </tr>\n",
       "    <tr>\n",
       "      <td>4</td>\n",
       "      <td>a32c5e9700ed356dc8dd5bb3230c5227</td>\n",
       "      <td>2014-01-07</td>\n",
       "      <td>15</td>\n",
       "      <td>6</td>\n",
       "      <td>0</td>\n",
       "      <td>2014-01-07</td>\n",
       "    </tr>\n",
       "  </tbody>\n",
       "</table>\n",
       "</div>"
      ],
      "text/plain": [
       "                          player_id          dt  level  num_attempts  \\\n",
       "0  6dd5af4c7228fa353d505767143f5815  2014-01-04      4             3   \n",
       "1  c7ec97c39349ab7e4d39b4f74062ec13  2014-01-01      8             4   \n",
       "2  c7ec97c39349ab7e4d39b4f74062ec13  2014-01-05     12             6   \n",
       "3  a32c5e9700ed356dc8dd5bb3230c5227  2014-01-03     11             1   \n",
       "4  a32c5e9700ed356dc8dd5bb3230c5227  2014-01-07     15             6   \n",
       "\n",
       "   num_success       date  \n",
       "0            1 2014-01-04  \n",
       "1            1 2014-01-01  \n",
       "2            0 2014-01-05  \n",
       "3            1 2014-01-03  \n",
       "4            0 2014-01-07  "
      ]
     },
     "execution_count": 27,
     "metadata": {},
     "output_type": "execute_result"
    }
   ],
   "source": [
    "# reading the dataset\n",
    "url=\"https://raw.githubusercontent.com/ryanschaub/Level-Difficulty-in-Candy-Crush-Saga/master/candy_crush.csv\"\n",
    "urlretrieve(url,\"candy_saga.csv\")\n",
    "candy=pd.read_csv(\"candy_saga.csv\")\n",
    "candy['date']=pd.to_datetime(candy['dt'])\n",
    "candy.head()"
   ]
  },
  {
   "cell_type": "code",
   "execution_count": 28,
   "metadata": {},
   "outputs": [
    {
     "name": "stdout",
     "output_type": "stream",
     "text": [
      "<class 'pandas.core.frame.DataFrame'>\n",
      "RangeIndex: 16865 entries, 0 to 16864\n",
      "Data columns (total 6 columns):\n",
      "player_id       16865 non-null object\n",
      "dt              16865 non-null object\n",
      "level           16865 non-null int64\n",
      "num_attempts    16865 non-null int64\n",
      "num_success     16865 non-null int64\n",
      "date            16865 non-null datetime64[ns]\n",
      "dtypes: datetime64[ns](1), int64(3), object(2)\n",
      "memory usage: 790.7+ KB\n"
     ]
    }
   ],
   "source": [
    "candy.info()"
   ]
  },
  {
   "cell_type": "code",
   "execution_count": 29,
   "metadata": {},
   "outputs": [
    {
     "data": {
      "text/plain": [
       "player_id       0\n",
       "dt              0\n",
       "level           0\n",
       "num_attempts    0\n",
       "num_success     0\n",
       "date            0\n",
       "dtype: int64"
      ]
     },
     "execution_count": 29,
     "metadata": {},
     "output_type": "execute_result"
    }
   ],
   "source": [
    "candy.isna().sum()"
   ]
  },
  {
   "cell_type": "code",
   "execution_count": 32,
   "metadata": {},
   "outputs": [
    {
     "data": {
      "text/plain": [
       "(16865, 6)"
      ]
     },
     "execution_count": 32,
     "metadata": {},
     "output_type": "execute_result"
    }
   ],
   "source": [
    "candy.shape"
   ]
  },
  {
   "cell_type": "code",
   "execution_count": 194,
   "metadata": {},
   "outputs": [
    {
     "data": {
      "text/plain": [
       "<matplotlib.axes._subplots.AxesSubplot at 0x276b59967c8>"
      ]
     },
     "execution_count": 194,
     "metadata": {},
     "output_type": "execute_result"
    },
    {
     "data": {
      "image/png": "[encoded data removed]",
      "text/plain": [
       "<Figure size 432x288 with 1 Axes>"
      ]
     },
     "metadata": {
      "needs_background": "light"
     },
     "output_type": "display_data"
    }
   ],
   "source": [
    "candy.level.value_counts().sort_index().plot(kind='bar')"
   ]
  },
  {
   "cell_type": "code",
   "execution_count": 38,
   "metadata": {},
   "outputs": [
    {
     "data": {
      "text/plain": [
       "6814"
      ]
     },
     "execution_count": 38,
     "metadata": {},
     "output_type": "execute_result"
    }
   ],
   "source": [
    "len((candy.player_id).unique())          "
   ]
  },
  {
   "cell_type": "markdown",
   "metadata": {},
   "source": [
    "# Computing level difficulty"
   ]
  },
  {
   "cell_type": "code",
   "execution_count": 146,
   "metadata": {},
   "outputs": [
    {
     "data": {
      "text/html": [
       "<div>\n",
       "<style scoped>\n",
       "    .dataframe tbody tr th:only-of-type {\n",
       "        vertical-align: middle;\n",
       "    }\n",
       "\n",
       "    .dataframe tbody tr th {\n",
       "        vertical-align: top;\n",
       "    }\n",
       "\n",
       "    .dataframe thead th {\n",
       "        text-align: right;\n",
       "    }\n",
       "</style>\n",
       "<table border=\"1\" class=\"dataframe\">\n",
       "  <thead>\n",
       "    <tr style=\"text-align: right;\">\n",
       "      <th></th>\n",
       "      <th>attempts</th>\n",
       "      <th>wins</th>\n",
       "      <th>p_win</th>\n",
       "    </tr>\n",
       "    <tr>\n",
       "      <th>level</th>\n",
       "      <th></th>\n",
       "      <th></th>\n",
       "      <th></th>\n",
       "    </tr>\n",
       "  </thead>\n",
       "  <tbody>\n",
       "    <tr>\n",
       "      <td>1</td>\n",
       "      <td>1322</td>\n",
       "      <td>818</td>\n",
       "      <td>0.618759</td>\n",
       "    </tr>\n",
       "    <tr>\n",
       "      <td>2</td>\n",
       "      <td>1285</td>\n",
       "      <td>666</td>\n",
       "      <td>0.518288</td>\n",
       "    </tr>\n",
       "    <tr>\n",
       "      <td>3</td>\n",
       "      <td>1546</td>\n",
       "      <td>662</td>\n",
       "      <td>0.428202</td>\n",
       "    </tr>\n",
       "    <tr>\n",
       "      <td>4</td>\n",
       "      <td>1893</td>\n",
       "      <td>705</td>\n",
       "      <td>0.372425</td>\n",
       "    </tr>\n",
       "    <tr>\n",
       "      <td>5</td>\n",
       "      <td>6937</td>\n",
       "      <td>634</td>\n",
       "      <td>0.091394</td>\n",
       "    </tr>\n",
       "    <tr>\n",
       "      <td>6</td>\n",
       "      <td>1591</td>\n",
       "      <td>668</td>\n",
       "      <td>0.419862</td>\n",
       "    </tr>\n",
       "    <tr>\n",
       "      <td>7</td>\n",
       "      <td>4526</td>\n",
       "      <td>614</td>\n",
       "      <td>0.135661</td>\n",
       "    </tr>\n",
       "    <tr>\n",
       "      <td>8</td>\n",
       "      <td>15816</td>\n",
       "      <td>641</td>\n",
       "      <td>0.040529</td>\n",
       "    </tr>\n",
       "    <tr>\n",
       "      <td>9</td>\n",
       "      <td>8241</td>\n",
       "      <td>670</td>\n",
       "      <td>0.081301</td>\n",
       "    </tr>\n",
       "    <tr>\n",
       "      <td>10</td>\n",
       "      <td>3282</td>\n",
       "      <td>617</td>\n",
       "      <td>0.187995</td>\n",
       "    </tr>\n",
       "    <tr>\n",
       "      <td>11</td>\n",
       "      <td>5575</td>\n",
       "      <td>603</td>\n",
       "      <td>0.108161</td>\n",
       "    </tr>\n",
       "    <tr>\n",
       "      <td>12</td>\n",
       "      <td>6868</td>\n",
       "      <td>659</td>\n",
       "      <td>0.095952</td>\n",
       "    </tr>\n",
       "    <tr>\n",
       "      <td>13</td>\n",
       "      <td>1327</td>\n",
       "      <td>686</td>\n",
       "      <td>0.516956</td>\n",
       "    </tr>\n",
       "    <tr>\n",
       "      <td>14</td>\n",
       "      <td>2772</td>\n",
       "      <td>777</td>\n",
       "      <td>0.280303</td>\n",
       "    </tr>\n",
       "    <tr>\n",
       "      <td>15</td>\n",
       "      <td>30374</td>\n",
       "      <td>1157</td>\n",
       "      <td>0.038092</td>\n",
       "    </tr>\n",
       "  </tbody>\n",
       "</table>\n",
       "</div>"
      ],
      "text/plain": [
       "       attempts  wins     p_win\n",
       "level                          \n",
       "1          1322   818  0.618759\n",
       "2          1285   666  0.518288\n",
       "3          1546   662  0.428202\n",
       "4          1893   705  0.372425\n",
       "5          6937   634  0.091394\n",
       "6          1591   668  0.419862\n",
       "7          4526   614  0.135661\n",
       "8         15816   641  0.040529\n",
       "9          8241   670  0.081301\n",
       "10         3282   617  0.187995\n",
       "11         5575   603  0.108161\n",
       "12         6868   659  0.095952\n",
       "13         1327   686  0.516956\n",
       "14         2772   777  0.280303\n",
       "15        30374  1157  0.038092"
      ]
     },
     "execution_count": 146,
     "metadata": {},
     "output_type": "execute_result"
    }
   ],
   "source": [
    "difficulty=candy.groupby([\"level\"],as_index=True).agg(attempts=('num_attempts',np.sum),wins=('num_success',np.sum))\n",
    "difficulty['p_win']=difficulty.wins/difficulty.attempts\n",
    "difficulty"
   ]
  },
  {
   "cell_type": "code",
   "execution_count": 156,
   "metadata": {},
   "outputs": [
    {
     "data": {
      "text/plain": [
       "Text(0.5, 1.0, 'Level Difficulty')"
      ]
     },
     "execution_count": 156,
     "metadata": {},
     "output_type": "execute_result"
    },
    {
     "data": {
      "image/png": "[encoded data removed]",
      "text/plain": [
       "<Figure size 432x288 with 1 Axes>"
      ]
     },
     "metadata": {
      "needs_background": "light"
     },
     "output_type": "display_data"
    }
   ],
   "source": [
    "difficulty.p_win.plot(kind='line')\n",
    "plt.xlabel(\"Level of Games\")\n",
    "plt.ylabel(\"Probablity of winning level\")\n",
    "plt.title(\"Level Difficulty\")"
   ]
  },
  {
   "cell_type": "code",
   "execution_count": 150,
   "metadata": {},
   "outputs": [
    {
     "data": {
      "text/html": [
       "<div>\n",
       "<style scoped>\n",
       "    .dataframe tbody tr th:only-of-type {\n",
       "        vertical-align: middle;\n",
       "    }\n",
       "\n",
       "    .dataframe tbody tr th {\n",
       "        vertical-align: top;\n",
       "    }\n",
       "\n",
       "    .dataframe thead th {\n",
       "        text-align: right;\n",
       "    }\n",
       "</style>\n",
       "<table border=\"1\" class=\"dataframe\">\n",
       "  <thead>\n",
       "    <tr style=\"text-align: right;\">\n",
       "      <th></th>\n",
       "      <th>attempts</th>\n",
       "      <th>wins</th>\n",
       "      <th>p_win</th>\n",
       "      <th>error</th>\n",
       "    </tr>\n",
       "    <tr>\n",
       "      <th>level</th>\n",
       "      <th></th>\n",
       "      <th></th>\n",
       "      <th></th>\n",
       "      <th></th>\n",
       "    </tr>\n",
       "  </thead>\n",
       "  <tbody>\n",
       "    <tr>\n",
       "      <td>1</td>\n",
       "      <td>1322</td>\n",
       "      <td>818</td>\n",
       "      <td>0.618759</td>\n",
       "      <td>0.013358</td>\n",
       "    </tr>\n",
       "    <tr>\n",
       "      <td>2</td>\n",
       "      <td>1285</td>\n",
       "      <td>666</td>\n",
       "      <td>0.518288</td>\n",
       "      <td>0.013939</td>\n",
       "    </tr>\n",
       "    <tr>\n",
       "      <td>3</td>\n",
       "      <td>1546</td>\n",
       "      <td>662</td>\n",
       "      <td>0.428202</td>\n",
       "      <td>0.012585</td>\n",
       "    </tr>\n",
       "    <tr>\n",
       "      <td>4</td>\n",
       "      <td>1893</td>\n",
       "      <td>705</td>\n",
       "      <td>0.372425</td>\n",
       "      <td>0.011112</td>\n",
       "    </tr>\n",
       "    <tr>\n",
       "      <td>5</td>\n",
       "      <td>6937</td>\n",
       "      <td>634</td>\n",
       "      <td>0.091394</td>\n",
       "      <td>0.003460</td>\n",
       "    </tr>\n",
       "    <tr>\n",
       "      <td>6</td>\n",
       "      <td>1591</td>\n",
       "      <td>668</td>\n",
       "      <td>0.419862</td>\n",
       "      <td>0.012373</td>\n",
       "    </tr>\n",
       "    <tr>\n",
       "      <td>7</td>\n",
       "      <td>4526</td>\n",
       "      <td>614</td>\n",
       "      <td>0.135661</td>\n",
       "      <td>0.005090</td>\n",
       "    </tr>\n",
       "    <tr>\n",
       "      <td>8</td>\n",
       "      <td>15816</td>\n",
       "      <td>641</td>\n",
       "      <td>0.040529</td>\n",
       "      <td>0.001568</td>\n",
       "    </tr>\n",
       "    <tr>\n",
       "      <td>9</td>\n",
       "      <td>8241</td>\n",
       "      <td>670</td>\n",
       "      <td>0.081301</td>\n",
       "      <td>0.003011</td>\n",
       "    </tr>\n",
       "    <tr>\n",
       "      <td>10</td>\n",
       "      <td>3282</td>\n",
       "      <td>617</td>\n",
       "      <td>0.187995</td>\n",
       "      <td>0.006820</td>\n",
       "    </tr>\n",
       "    <tr>\n",
       "      <td>11</td>\n",
       "      <td>5575</td>\n",
       "      <td>603</td>\n",
       "      <td>0.108161</td>\n",
       "      <td>0.004160</td>\n",
       "    </tr>\n",
       "    <tr>\n",
       "      <td>12</td>\n",
       "      <td>6868</td>\n",
       "      <td>659</td>\n",
       "      <td>0.095952</td>\n",
       "      <td>0.003554</td>\n",
       "    </tr>\n",
       "    <tr>\n",
       "      <td>13</td>\n",
       "      <td>1327</td>\n",
       "      <td>686</td>\n",
       "      <td>0.516956</td>\n",
       "      <td>0.013718</td>\n",
       "    </tr>\n",
       "    <tr>\n",
       "      <td>14</td>\n",
       "      <td>2772</td>\n",
       "      <td>777</td>\n",
       "      <td>0.280303</td>\n",
       "      <td>0.008531</td>\n",
       "    </tr>\n",
       "    <tr>\n",
       "      <td>15</td>\n",
       "      <td>30374</td>\n",
       "      <td>1157</td>\n",
       "      <td>0.038092</td>\n",
       "      <td>0.001098</td>\n",
       "    </tr>\n",
       "  </tbody>\n",
       "</table>\n",
       "</div>"
      ],
      "text/plain": [
       "       attempts  wins     p_win     error\n",
       "level                                    \n",
       "1          1322   818  0.618759  0.013358\n",
       "2          1285   666  0.518288  0.013939\n",
       "3          1546   662  0.428202  0.012585\n",
       "4          1893   705  0.372425  0.011112\n",
       "5          6937   634  0.091394  0.003460\n",
       "6          1591   668  0.419862  0.012373\n",
       "7          4526   614  0.135661  0.005090\n",
       "8         15816   641  0.040529  0.001568\n",
       "9          8241   670  0.081301  0.003011\n",
       "10         3282   617  0.187995  0.006820\n",
       "11         5575   603  0.108161  0.004160\n",
       "12         6868   659  0.095952  0.003554\n",
       "13         1327   686  0.516956  0.013718\n",
       "14         2772   777  0.280303  0.008531\n",
       "15        30374  1157  0.038092  0.001098"
      ]
     },
     "execution_count": 150,
     "metadata": {},
     "output_type": "execute_result"
    }
   ],
   "source": [
    "difficulty['error']=np.sqrt(difficulty.p_win*(1-difficulty.p_win)/difficulty.attempts)\n",
    "difficulty"
   ]
  },
  {
   "cell_type": "code",
   "execution_count": 167,
   "metadata": {},
   "outputs": [
    {
     "data": {
      "text/plain": [
       "9.447140934486065e-12"
      ]
     },
     "execution_count": 167,
     "metadata": {},
     "output_type": "execute_result"
    }
   ],
   "source": [
    "# The probability of completing the game without losing a single time\n",
    "p=np.product(difficulty.p_win)\n",
    "p"
   ]
  },
  {
   "cell_type": "code",
   "execution_count": 189,
   "metadata": {},
   "outputs": [
    {
     "data": {
      "text/plain": [
       "level\n",
       "1      78\n",
       "2       9\n",
       "3      14\n",
       "4      30\n",
       "5      80\n",
       "6      55\n",
       "7      73\n",
       "8      95\n",
       "9     112\n",
       "10     69\n",
       "11    258\n",
       "12     46\n",
       "13     18\n",
       "14     34\n",
       "15    138\n",
       "Name: num_attempts, dtype: int64"
      ]
     },
     "execution_count": 189,
     "metadata": {},
     "output_type": "execute_result"
    },
    {
     "data": {
      "image/png": "[encoded data removed]",
      "text/plain": [
       "<Figure size 432x288 with 1 Axes>"
      ]
     },
     "metadata": {
      "needs_background": "light"
     },
     "output_type": "display_data"
    }
   ],
   "source": [
    "#max number of attempts wrt levels\n",
    "candy.groupby('level')['num_attempts'].max().plot(kind='line')\n",
    "plt.ylabel(\"no. of attempts\")\n",
    "plt.title(\"Number of attempts wrt levels\")\n",
    "candy.groupby('level')['num_attempts'].max()"
   ]
  },
  {
   "cell_type": "code",
   "execution_count": 188,
   "metadata": {},
   "outputs": [
    {
     "data": {
      "text/plain": [
       "level\n",
       "1     55\n",
       "2      8\n",
       "3      8\n",
       "4      6\n",
       "5     13\n",
       "6      8\n",
       "7      6\n",
       "8      6\n",
       "9      7\n",
       "10     9\n",
       "11     5\n",
       "12     7\n",
       "13    13\n",
       "14    20\n",
       "15     6\n",
       "Name: num_success, dtype: int64"
      ]
     },
     "execution_count": 188,
     "metadata": {},
     "output_type": "execute_result"
    },
    {
     "data": {
      "image/png": "[encoded data removed]",
      "text/plain": [
       "<Figure size 432x288 with 1 Axes>"
      ]
     },
     "metadata": {
      "needs_background": "light"
     },
     "output_type": "display_data"
    }
   ],
   "source": [
    "#max number of attempts wrt levels\n",
    "candy.groupby('level')['num_success'].max().plot(kind='line')\n",
    "plt.ylabel(\"no. of success\")\n",
    "plt.title(\"Number of success wrt levels\")\n",
    "candy.groupby('level')['num_success'].max()"
   ]
  },
  {
   "cell_type": "code",
   "execution_count": 181,
   "metadata": {},
   "outputs": [
    {
     "data": {
      "text/plain": [
       "2014-01-03    2518\n",
       "2014-01-07    2470\n",
       "2014-01-05    2451\n",
       "2014-01-06    2437\n",
       "2014-01-02    2422\n",
       "2014-01-04    2368\n",
       "2014-01-01    2199\n",
       "Name: date, dtype: int64"
      ]
     },
     "execution_count": 181,
     "metadata": {},
     "output_type": "execute_result"
    }
   ],
   "source": [
    "candy.date.value_counts()"
   ]
  },
  {
   "cell_type": "code",
   "execution_count": 206,
   "metadata": {},
   "outputs": [
    {
     "data": {
      "text/plain": [
       "level\n",
       "1      676\n",
       "2      680\n",
       "3      673\n",
       "4      705\n",
       "5     1200\n",
       "6      670\n",
       "7      966\n",
       "8     1839\n",
       "9     1216\n",
       "10     879\n",
       "11     994\n",
       "12    1111\n",
       "13     687\n",
       "14     844\n",
       "15    2836\n",
       "Name: player_id, dtype: int64"
      ]
     },
     "execution_count": 206,
     "metadata": {},
     "output_type": "execute_result"
    }
   ],
   "source": [
    "candy.groupby('level')['player_id'].apply(lambda x:len((x).unique())) "
   ]
  },
  {
   "cell_type": "code",
   "execution_count": 191,
   "metadata": {},
   "outputs": [
    {
     "data": {
      "text/plain": [
       "<matplotlib.axes._subplots.AxesSubplot at 0x276b04a34c8>"
      ]
     },
     "execution_count": 191,
     "metadata": {},
     "output_type": "execute_result"
    },
    {
     "data": {
      "image/png": "[encoded data removed]",
      "text/plain": [
       "<Figure size 432x288 with 1 Axes>"
      ]
     },
     "metadata": {},
     "output_type": "display_data"
    }
   ],
   "source": [
    "candy['level'].value_counts().plot(kind = 'pie',autopct = '%1.1f%%',pctdistance = 0.9)"
   ]
  },
  {
   "cell_type": "code",
   "execution_count": null,
   "metadata": {},
   "outputs": [],
   "source": []
  }
 ],
 "metadata": {
  "kernelspec": {
   "display_name": "Python 3",
   "language": "python",
   "name": "python3"
  },
  "language_info": {
   "codemirror_mode": {
    "name": "ipython",
    "version": 3
   },
   "file_extension": ".py",
   "mimetype": "text/x-python",
   "name": "python",
   "nbconvert_exporter": "python",
   "pygments_lexer": "ipython3",
   "version": "3.7.4"
  }
 },
 "nbformat": 4,
 "nbformat_minor": 2
}
